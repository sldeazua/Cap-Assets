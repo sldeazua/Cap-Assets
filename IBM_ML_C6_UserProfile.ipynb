{
 "cells": [
  {
   "cell_type": "markdown",
   "id": "b3432f26",
   "metadata": {},
   "source": [
    "## Generate course recommendations based on user profile and course genre vectors"
   ]
  },
  {
   "cell_type": "code",
   "execution_count": null,
   "id": "0a0e5446",
   "metadata": {},
   "outputs": [],
   "source": [
    "import pandas as pd\n",
    "import numpy as np\n",
    "\n",
    "rs = 123\n",
    "\n",
    "course_genre_url = \"https://cf-courses-data.s3.us.cloud-object-storage.appdomain.cloud/IBM-ML321EN-SkillsNetwork/labs/datasets/course_genre.csv\"\n",
    "course_genres_df = pd.read_csv(course_genre_url)\n",
    "\n",
    "profile_genre_url = \"https://cf-courses-data.s3.us.cloud-object-storage.appdomain.cloud/IBM-ML321EN-SkillsNetwork/labs/datasets/user_profile.csv\"\n",
    "profile_df = pd.read_csv(profile_genre_url)\n",
    "\n",
    "test_users_url = \"https://cf-courses-data.s3.us.cloud-object-storage.appdomain.cloud/IBM-ML321EN-SkillsNetwork/labs/datasets/rs_content_test.csv\"\n",
    "test_users_df = pd.read_csv(test_users_url)\n",
    "\n",
    "test_users = test_users_df.groupby(['user']).max().reset_index(drop=False)\n",
    "test_user_ids = test_users['user'].to_list()\n",
    "print(f\"Total numbers of test users {len(test_user_ids)}\")\n",
    "\n",
    "test_user_profiles = profile_df[profile_df['user'].isin(test_user_ids)]\n",
    "test_user_profiles_list = test_user_profiles.values.tolist()\n",
    "\n",
    "score_threshold = 0.35\n",
    "\n",
    "total_recommendations = 0\n",
    "total_users = len(test_user_ids)\n",
    "\n",
    "# Calculate recommendations for each user\n",
    "for user_id in test_user_ids:\n",
    "    user_profile = test_user_profiles[test_user_profiles['user'] == user_id].values[0][1:]\n",
    "    enrolled_courses = test_users_df[test_users_df['user'] == user_id]['item'].to_list()\n",
    "    enrolled_courses = set(enrolled_courses)\n",
    "\n",
    "    all_courses = set(course_genres_df['COURSE_ID'].values)\n",
    "\n",
    "    unknown_courses = all_courses.difference(enrolled_courses)\n",
    "\n",
    "    recommendations = []\n",
    "\n",
    "    # Calculate recommendation scores for unknown courses\n",
    "    for unknown_course in unknown_courses:\n",
    "        if unknown_course not in course_genres_df['COURSE_ID'].values:\n",
    "            continue\n",
    "\n",
    "        course_vector = course_genres_df[course_genres_df['COURSE_ID'] == unknown_course].values[0][1:]\n",
    "\n",
    "        if len(course_vector) != len(user_profile):\n",
    "            continue\n",
    "\n",
    "        score = np.dot(user_profile, course_vector)\n",
    "\n",
    "        if score > score_threshold:\n",
    "            recommendations.append([unknown_course, score])\n",
    "\n",
    "    total_recommendations += len(recommendations)\n",
    "\n",
    "    # Check if there are any recommendations\n",
    "    if recommendations:\n",
    "        # Create a DataFrame from the recommendations list\n",
    "        recommendations_df = pd.DataFrame(recommendations, columns=['COURSE_ID', 'Recommendation_Score'])\n",
    "        print(f\"Recommendations for User {user_id}:\\n{recommendations_df}\\n\")\n",
    "    else:\n",
    "        print(f\"No recommendations found for User {user_id}\\n\")\n",
    "\n",
    "average_recommendations = total_recommendations / total_users\n",
    "print(f\"Average number of courses recommended per user: {average_recommendations:.2f}\")\n"
   ]
  }
 ],
 "metadata": {
  "kernelspec": {
   "display_name": "Python 3",
   "language": "python",
   "name": "python3"
  },
  "language_info": {
   "codemirror_mode": {
    "name": "ipython",
    "version": 3
   },
   "file_extension": ".py",
   "mimetype": "text/x-python",
   "name": "python",
   "nbconvert_exporter": "python",
   "pygments_lexer": "ipython3",
   "version": "3.10.9"
  }
 },
 "nbformat": 4,
 "nbformat_minor": 5
}
